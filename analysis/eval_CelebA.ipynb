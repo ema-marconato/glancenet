{
 "cells": [
  {
   "cell_type": "code",
   "execution_count": null,
   "id": "207ad40f",
   "metadata": {},
   "outputs": [],
   "source": [
    "from utility_functions import *\n",
    "\n",
    "import numpy as np\n",
    "import pandas as pd\n",
    "import torch\n",
    "import matplotlib.pyplot as plt\n",
    "\n",
    "from sklearn.metrics import classification_report"
   ]
  },
  {
   "cell_type": "code",
   "execution_count": null,
   "id": "2d0693f6",
   "metadata": {},
   "outputs": [],
   "source": [
    "#Choose the path where results are stored\n",
    "path='glance_10/'\n",
    "\n",
    "# Choose VAE for GlanceNet base architecture(that includes reconstruction + kld)3\n",
    "# otherwise CBNM for Concept Bottleneck Models\n",
    "plot_test_scores(path, kind='VAE', n_latents=10)"
   ]
  },
  {
   "cell_type": "code",
   "execution_count": null,
   "id": "5eec525a",
   "metadata": {},
   "outputs": [],
   "source": [
    "# Load the latents from test set\n",
    "with open('glance_10/eval_results/latents_obtained.npy','rb') as npy:\n",
    "    a = np.load(npy)\n",
    "    z_array = np.load(npy)\n",
    "    g_array = np.load(npy)\n",
    "\n",
    "# Discard spurious test data\n",
    "g_all, z_all = [], []\n",
    "for i in range(len(g_array)):\n",
    "    if np.sum(g_array[i, [0,1,2,3,5]] ) == 1:\n",
    "        g_all.append(g_array[i])\n",
    "        z_all.append(z_array[i])\n",
    "g_all = np.asarray(g_all)\n",
    "z_all = np.asarray(z_all)\n",
    "\n",
    "# make a list of lists, where to choose dimensions that are one hot encodings of a single class\n",
    "all_labels = [list(0,1,2,3,5)]\n",
    "\n",
    "# Calculate DCI \n",
    "C, C_tot, R, DIS, DIS_tot, E = DCI(z_all, g_all, all_labels=all_labels, verbose=True,)\n",
    "\n",
    "# Load predictions\n",
    "with open('glance_10/eval_results/downstream_obtained.npy', 'rb') as npy:\n",
    "    epoch = np.load(npy)\n",
    "    y_test = np.load(npy)\n",
    "    y_pred = np.load(npy)\n",
    "    \n",
    "y_test=(y_test.reshape(-1,1))\n",
    "y_pred=(y_pred.reshape(-1,1))\n",
    "# Use sklearn to evaluate results\n",
    "mat = classification_report(y_test, y_pred, output_dict=True)\n",
    "# just look at accuracy\n",
    "acc = mat['accuracy']\n",
    "print()\n",
    "print('Accuracy score:', acc)"
   ]
  }
 ],
 "metadata": {
  "kernelspec": {
   "display_name": "Python 3 (ipykernel)",
   "language": "python",
   "name": "python3"
  },
  "language_info": {
   "codemirror_mode": {
    "name": "ipython",
    "version": 3
   },
   "file_extension": ".py",
   "mimetype": "text/x-python",
   "name": "python",
   "nbconvert_exporter": "python",
   "pygments_lexer": "ipython3",
   "version": "3.9.12"
  }
 },
 "nbformat": 4,
 "nbformat_minor": 5
}
