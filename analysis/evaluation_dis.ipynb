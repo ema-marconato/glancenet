{
 "cells": [
  {
   "cell_type": "code",
   "execution_count": 26,
   "id": "207ad40f",
   "metadata": {},
   "outputs": [],
   "source": [
    "from utility_functions import *\n",
    "\n",
    "import numpy as np\n",
    "import pandas as pd\n",
    "import torch\n",
    "import matplotlib.pyplot as plt\n",
    "import pickle, json\n",
    "\n",
    "from sklearn.metrics import classification_report"
   ]
  },
  {
   "cell_type": "code",
   "execution_count": null,
   "id": "2d0693f6",
   "metadata": {},
   "outputs": [],
   "source": [
    "#Choose the path where results are stored\n",
    "path='glance_25/'\n",
    "\n",
    "# Choose VAE for GlanceNet base architecture(that includes reconstruction + kld)3\n",
    "# otherwise CBNM for Concept Bottleneck Models\n",
    "plot_test_scores(path, kind='VAE', n_latents=7)"
   ]
  },
  {
   "cell_type": "code",
   "execution_count": null,
   "id": "5eec525a",
   "metadata": {},
   "outputs": [],
   "source": [
    "# Load the disentanglement scores from test set\n",
    "with open('glance_25/eval_results/evaluation_results.json') as file_to_read:\n",
    "    dci_dict = json.loads(file_to_read.read())    \n",
    "\n",
    "# Load predictions\n",
    "with open('glance_25/eval_results/downstream_obtained.npy', 'rb') as npy:\n",
    "    epoch = np.load(npy)\n",
    "    y_test = np.load(npy)\n",
    "    y_pred = np.load(npy)\n",
    "    \n",
    "y_test=(y_test.reshape(-1,1))\n",
    "y_pred=(y_pred.reshape(-1,1))\n",
    "# Use sklearn to evaluate results\n",
    "mat = classification_report(y_test, y_pred, output_dict=True)\n",
    "# just look at accuracy\n",
    "acc = mat['accuracy']\n",
    "print()\n",
    "print('Accuracy score:', acc)\n",
    "\n",
    "print('Disentanglement score:', dci_dict['disentanglement'])\n",
    "print('Explicitness score:', dci_dict['informativeness_test'])"
   ]
  }
 ],
 "metadata": {
  "kernelspec": {
   "display_name": "Python 3 (ipykernel)",
   "language": "python",
   "name": "python3"
  },
  "language_info": {
   "codemirror_mode": {
    "name": "ipython",
    "version": 3
   },
   "file_extension": ".py",
   "mimetype": "text/x-python",
   "name": "python",
   "nbconvert_exporter": "python",
   "pygments_lexer": "ipython3",
   "version": "3.9.12"
  }
 },
 "nbformat": 4,
 "nbformat_minor": 5
}
