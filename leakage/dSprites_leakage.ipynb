{
 "cells": [
  {
   "cell_type": "code",
   "execution_count": null,
   "metadata": {},
   "outputs": [],
   "source": [
    "import numpy as np\n",
    "import pandas as pd\n",
    "import torch\n",
    "\n",
    "from sklearn.linear_model import LogisticRegression\n",
    "from sklearn.model_selection import train_test_split"
   ]
  },
  {
   "cell_type": "code",
   "execution_count": null,
   "metadata": {},
   "outputs": [],
   "source": [
    "# INTRODUCE THE LOG REGRESSION WITH REJECTION\n",
    "\n",
    "def diffident_log_regression(z, y, test_values, test_y, which_ones, name='VAE'):\n",
    "\n",
    "    y = np.array(y%2==0, dtype=int)\n",
    "    test_x = test_values\n",
    "    test_y = np.array(test_y%2==0, dtype=int)\n",
    "    \n",
    "    print(len(z))\n",
    "    \n",
    "    l = z.shape[1]\n",
    "    \n",
    "    log_reg = LogisticRegression(max_iter=1000)\n",
    "    log_reg.fit(z,y)\n",
    "    \n",
    "    accuracy = 0\n",
    "    pred = np.zeros(len(test_x))\n",
    "    for i in range(len(test_x)):\n",
    "        if which_ones[i]:\n",
    "            pred[i] = log_reg.predict(test_values[i].reshape(1,-1))\n",
    "        else:\n",
    "            pred[i] = 0.5\n",
    "            test_x[i] = np.zeros(l) \n",
    "        sort = np.random.binomial(1, pred[i], size=None)\n",
    "        if test_y[i] == sort:\n",
    "            accuracy += 1\n",
    "    \n",
    "    print(name+' Score: with acc', accuracy/len(which_ones))\n",
    "    print('Score with log_reg:', log_reg.score(test_x, test_y) )\n",
    "    print('params', log_reg.coef_)\n",
    "    return log_reg\n",
    "\n",
    "def diffident_prediction(log_reg, zs, which_ones):\n",
    "    preds = []\n",
    "    for i, z in enumerate(zs):\n",
    "        if which_ones[i]:\n",
    "            preds.append(log_reg.predict(z.reshape(1,-1)))\n",
    "        else:\n",
    "            preds.append(np.random.randint(2))\n",
    "    return np.array(preds)"
   ]
  },
  {
   "cell_type": "code",
   "execution_count": null,
   "metadata": {},
   "outputs": [],
   "source": [
    "## LOAD RESULTS FROM DSPRITES RUN ##\n",
    "\n",
    "with open('../logs/dsprites_test/eval_results/latents_obtained.npy', 'rb') as f:\n",
    "    stop_epoch = np.load(f)\n",
    "    z = np.load(f)\n",
    "    g = np.load(f)\n",
    "        \n",
    "with open('../logs/dsprites_test/eval_results/centroids.npy', 'rb') as f:\n",
    "    centroids = np.load(f)\n",
    "    centroids = torch.sigmoid( torch.tensor(centroids) )\n",
    "    \n",
    "with open('../logs/dsprites_test/eval_results/passed.npy', 'rb') as f:\n",
    "    passed = np.load(f)"
   ]
  },
  {
   "cell_type": "code",
   "execution_count": null,
   "metadata": {},
   "outputs": [],
   "source": [
    "## EVALUATE LINEAR CLASSIFICATION WITH OSR ##\n",
    "\n",
    "z_train, z_test, y_train, y_test = train_test_split(z, y, )\n",
    "_ = diffident_log_regression(z_train, y_train, z_test, y_test, passed)"
   ]
  }
 ],
 "metadata": {
  "kernelspec": {
   "display_name": "Python 3 (ipykernel)",
   "language": "python",
   "name": "python3"
  },
  "language_info": {
   "codemirror_mode": {
    "name": "ipython",
    "version": 3
   },
   "file_extension": ".py",
   "mimetype": "text/x-python",
   "name": "python",
   "nbconvert_exporter": "python",
   "pygments_lexer": "ipython3",
   "version": "3.9.12"
  }
 },
 "nbformat": 4,
 "nbformat_minor": 4
}
